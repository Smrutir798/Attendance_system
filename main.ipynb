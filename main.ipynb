{
 "cells": [
  {
   "cell_type": "code",
   "execution_count": 1,
   "id": "dd8980a1",
   "metadata": {},
   "outputs": [],
   "source": [
    "import cv2\n",
    "import numpy as np\n",
    "import face_recognition"
   ]
  },
  {
   "cell_type": "code",
   "execution_count": 3,
   "id": "36e3d76c",
   "metadata": {},
   "outputs": [
    {
     "data": {
      "text/plain": [
       "-1"
      ]
     },
     "execution_count": 3,
     "metadata": {},
     "output_type": "execute_result"
    }
   ],
   "source": [
    "imgelon_bgr = face_recognition.load_image_file('smruti.jpg')\n",
    "imgelon_rgb = cv2.cvtColor(imgelon_bgr,cv2.COLOR_BGR2RGB)\n",
    "cv2.imshow('bgr', imgelon_bgr)\n",
    "cv2.imshow('rgb', imgelon_rgb)\n",
    "cv2.waitKey(0)"
   ]
  },
  {
   "cell_type": "code",
   "execution_count": 5,
   "id": "9d79ec79",
   "metadata": {},
   "outputs": [
    {
     "data": {
      "text/plain": [
       "-1"
      ]
     },
     "execution_count": 5,
     "metadata": {},
     "output_type": "execute_result"
    }
   ],
   "source": [
    "imgelon =face_recognition.load_image_file('smruti.jpg')\n",
    "imgelon = cv2.cvtColor(imgelon,cv2.COLOR_BGR2RGB)\n",
    "#----------Finding face Location for drawing bounding boxes-------\n",
    "face = face_recognition.face_locations(imgelon_rgb)[0]\n",
    "copy = imgelon.copy()\n",
    "#-------------------Drawing the Rectangle-------------------------\n",
    "cv2.rectangle(copy, (face[3], face[0]),(face[1], face[2]), (255,0,255), 2)\n",
    "cv2.imshow('copy', copy)\n",
    "cv2.imshow('smruti',imgelon)\n",
    "cv2.waitKey(0)"
   ]
  },
  {
   "cell_type": "code",
   "execution_count": 6,
   "id": "da74bd8d",
   "metadata": {},
   "outputs": [],
   "source": [
    "train_elon_encodings = face_recognition.face_encodings(imgelon)[0]"
   ]
  },
  {
   "cell_type": "code",
   "execution_count": 7,
   "id": "a8d23c53",
   "metadata": {},
   "outputs": [
    {
     "name": "stdout",
     "output_type": "stream",
     "text": [
      "[np.True_]\n"
     ]
    }
   ],
   "source": [
    "# lets test an image\n",
    "test = face_recognition.load_image_file('smruti_2.jpg')\n",
    "test = cv2.cvtColor(test, cv2.COLOR_BGR2RGB)\n",
    "test_encode = face_recognition.face_encodings(test)[0]\n",
    "print(face_recognition.compare_faces([train_elon_encodings], test_encode))"
   ]
  },
  {
   "cell_type": "code",
   "execution_count": null,
   "id": "b869ece4",
   "metadata": {},
   "outputs": [],
   "source": []
  },
  {
   "cell_type": "code",
   "execution_count": null,
   "id": "9a99af28",
   "metadata": {},
   "outputs": [],
   "source": []
  }
 ],
 "metadata": {
  "kernelspec": {
   "display_name": "dlib_env",
   "language": "python",
   "name": "python3"
  },
  "language_info": {
   "codemirror_mode": {
    "name": "ipython",
    "version": 3
   },
   "file_extension": ".py",
   "mimetype": "text/x-python",
   "name": "python",
   "nbconvert_exporter": "python",
   "pygments_lexer": "ipython3",
   "version": "3.12.4"
  }
 },
 "nbformat": 4,
 "nbformat_minor": 5
}
